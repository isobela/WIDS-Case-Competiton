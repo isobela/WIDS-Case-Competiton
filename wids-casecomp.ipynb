{
 "cells": [
  {
   "cell_type": "code",
   "execution_count": 169,
   "metadata": {},
   "outputs": [],
   "source": [
    "import pandas as pd\n",
    "\n",
    "# Load train and test datasets\n",
    "train_data = pd.read_csv(\"train.csv\")\n",
    "test_data = pd.read_csv(\"test.csv\")"
   ]
  },
  {
   "cell_type": "code",
   "execution_count": 170,
   "metadata": {},
   "outputs": [],
   "source": [
    "train_data.head()\n",
    "id_column = test_data['id']"
   ]
  },
  {
   "cell_type": "markdown",
   "metadata": {},
   "source": [
    "# Preprocessing"
   ]
  },
  {
   "cell_type": "code",
   "execution_count": 171,
   "metadata": {},
   "outputs": [
    {
     "name": "stdout",
     "output_type": "stream",
     "text": [
      "Index(['Unnamed: 0', 'id', 'name', 'neighborhood_overview', 'host_id',\n",
      "       'host_name', 'host_response_time', 'host_response_rate',\n",
      "       'host_acceptance_rate', 'host_is_superhost', 'host_listings_count',\n",
      "       'host_total_listings_count', 'neighbourhood', 'neighbourhood_cleansed',\n",
      "       'latitude', 'longitude', 'property_type', 'room_type', 'accommodates',\n",
      "       'bathrooms', 'bedrooms', 'beds', 'amenities', 'price', 'minimum_nights',\n",
      "       'maximum_nights', 'minimum_nights_avg_ntm', 'maximum_nights_avg_ntm',\n",
      "       'availability_30', 'availability_60', 'availability_90',\n",
      "       'availability_365', 'number_of_reviews', 'number_of_reviews_ltm',\n",
      "       'review_scores_rating', 'review_scores_accuracy',\n",
      "       'review_scores_cleanliness', 'review_scores_checkin',\n",
      "       'review_scores_communication', 'review_scores_location',\n",
      "       'review_scores_value', 'instant_bookable',\n",
      "       'calculated_host_listings_count', 'reviews_per_month',\n",
      "       'monthly_revenue'],\n",
      "      dtype='object')\n"
     ]
    }
   ],
   "source": [
    "print(train_data.columns)"
   ]
  },
  {
   "cell_type": "code",
   "execution_count": 172,
   "metadata": {},
   "outputs": [
    {
     "name": "stdout",
     "output_type": "stream",
     "text": [
      "Index(['id', 'name', 'neighborhood_overview', 'host_id', 'host_name',\n",
      "       'host_response_time', 'host_response_rate', 'host_acceptance_rate',\n",
      "       'host_is_superhost', 'host_listings_count', 'host_total_listings_count',\n",
      "       'neighbourhood', 'neighbourhood_cleansed', 'latitude', 'longitude',\n",
      "       'property_type', 'room_type', 'accommodates', 'bathrooms', 'bedrooms',\n",
      "       'beds', 'amenities', 'price', 'minimum_nights', 'maximum_nights',\n",
      "       'minimum_nights_avg_ntm', 'maximum_nights_avg_ntm', 'availability_30',\n",
      "       'availability_60', 'availability_90', 'availability_365',\n",
      "       'number_of_reviews', 'number_of_reviews_ltm', 'review_scores_rating',\n",
      "       'review_scores_accuracy', 'review_scores_cleanliness',\n",
      "       'review_scores_checkin', 'review_scores_communication',\n",
      "       'review_scores_location', 'review_scores_value', 'instant_bookable',\n",
      "       'calculated_host_listings_count', 'reviews_per_month'],\n",
      "      dtype='object')\n"
     ]
    }
   ],
   "source": [
    "print(test_data.columns)"
   ]
  },
  {
   "cell_type": "code",
   "execution_count": 173,
   "metadata": {},
   "outputs": [
    {
     "name": "stdout",
     "output_type": "stream",
     "text": [
      "Columns with only null values:\n",
      "Index(['bathrooms', 'bedrooms'], dtype='object')\n"
     ]
    }
   ],
   "source": [
    "# Identify columns where all values are NaN\n",
    "null_columns = train_data.columns[train_data.isnull().all()]\n",
    "# Display the names of such columns\n",
    "print(\"Columns with only null values:\")\n",
    "print(null_columns)"
   ]
  },
  {
   "cell_type": "code",
   "execution_count": 174,
   "metadata": {},
   "outputs": [],
   "source": [
    "# drop null / useless columns / columns not included in test_data\n",
    "train_data = train_data.drop(['bathrooms', 'bedrooms', 'id', 'name', 'Unnamed: 0',\n",
    "                              'host_response_time', 'host_response_rate', 'host_acceptance_rate',\n",
    "                              'neighborhood_overview'], axis=1)\n",
    "test_data = test_data.drop(['bathrooms', 'bedrooms', 'id', 'name',\n",
    "                              'host_response_time', 'host_response_rate', 'host_acceptance_rate',\n",
    "                              'neighborhood_overview'], axis=1)"
   ]
  },
  {
   "cell_type": "code",
   "execution_count": 175,
   "metadata": {},
   "outputs": [
    {
     "name": "stdout",
     "output_type": "stream",
     "text": [
      "(5352, 36)\n",
      "host_id                             int64\n",
      "host_name                          object\n",
      "host_is_superhost                  object\n",
      "host_listings_count                 int64\n",
      "host_total_listings_count           int64\n",
      "neighbourhood                      object\n",
      "neighbourhood_cleansed             object\n",
      "latitude                          float64\n",
      "longitude                         float64\n",
      "property_type                      object\n",
      "room_type                          object\n",
      "accommodates                        int64\n",
      "beds                              float64\n",
      "amenities                          object\n",
      "price                              object\n",
      "minimum_nights                      int64\n",
      "maximum_nights                      int64\n",
      "minimum_nights_avg_ntm            float64\n",
      "maximum_nights_avg_ntm            float64\n",
      "availability_30                     int64\n",
      "availability_60                     int64\n",
      "availability_90                     int64\n",
      "availability_365                    int64\n",
      "number_of_reviews                   int64\n",
      "number_of_reviews_ltm               int64\n",
      "review_scores_rating              float64\n",
      "review_scores_accuracy            float64\n",
      "review_scores_cleanliness         float64\n",
      "review_scores_checkin             float64\n",
      "review_scores_communication       float64\n",
      "review_scores_location            float64\n",
      "review_scores_value               float64\n",
      "instant_bookable                   object\n",
      "calculated_host_listings_count      int64\n",
      "reviews_per_month                 float64\n",
      "monthly_revenue                     int64\n",
      "dtype: object\n"
     ]
    }
   ],
   "source": [
    "import numpy as np\n",
    "import pandas as pd\n",
    "import matplotlib.pylab as plt\n",
    "import seaborn as sns\n",
    "\n",
    "print(train_data.shape)\n",
    "print(train_data.dtypes)"
   ]
  },
  {
   "cell_type": "code",
   "execution_count": 176,
   "metadata": {},
   "outputs": [
    {
     "name": "stdout",
     "output_type": "stream",
     "text": [
      "(1339, 35)\n",
      "host_id                             int64\n",
      "host_name                          object\n",
      "host_is_superhost                  object\n",
      "host_listings_count                 int64\n",
      "host_total_listings_count           int64\n",
      "neighbourhood                      object\n",
      "neighbourhood_cleansed             object\n",
      "latitude                          float64\n",
      "longitude                         float64\n",
      "property_type                      object\n",
      "room_type                          object\n",
      "accommodates                        int64\n",
      "beds                              float64\n",
      "amenities                          object\n",
      "price                              object\n",
      "minimum_nights                      int64\n",
      "maximum_nights                      int64\n",
      "minimum_nights_avg_ntm            float64\n",
      "maximum_nights_avg_ntm            float64\n",
      "availability_30                     int64\n",
      "availability_60                     int64\n",
      "availability_90                     int64\n",
      "availability_365                    int64\n",
      "number_of_reviews                   int64\n",
      "number_of_reviews_ltm               int64\n",
      "review_scores_rating              float64\n",
      "review_scores_accuracy            float64\n",
      "review_scores_cleanliness         float64\n",
      "review_scores_checkin             float64\n",
      "review_scores_communication       float64\n",
      "review_scores_location            float64\n",
      "review_scores_value               float64\n",
      "instant_bookable                   object\n",
      "calculated_host_listings_count      int64\n",
      "reviews_per_month                 float64\n",
      "dtype: object\n"
     ]
    }
   ],
   "source": [
    "print(test_data.shape)\n",
    "print(test_data.dtypes)"
   ]
  },
  {
   "cell_type": "code",
   "execution_count": 177,
   "metadata": {},
   "outputs": [
    {
     "data": {
      "text/html": [
       "<div>\n",
       "<style scoped>\n",
       "    .dataframe tbody tr th:only-of-type {\n",
       "        vertical-align: middle;\n",
       "    }\n",
       "\n",
       "    .dataframe tbody tr th {\n",
       "        vertical-align: top;\n",
       "    }\n",
       "\n",
       "    .dataframe thead th {\n",
       "        text-align: right;\n",
       "    }\n",
       "</style>\n",
       "<table border=\"1\" class=\"dataframe\">\n",
       "  <thead>\n",
       "    <tr style=\"text-align: right;\">\n",
       "      <th></th>\n",
       "      <th>host_id</th>\n",
       "      <th>host_name</th>\n",
       "      <th>host_is_superhost</th>\n",
       "      <th>host_listings_count</th>\n",
       "      <th>host_total_listings_count</th>\n",
       "      <th>neighbourhood</th>\n",
       "      <th>neighbourhood_cleansed</th>\n",
       "      <th>latitude</th>\n",
       "      <th>longitude</th>\n",
       "      <th>property_type</th>\n",
       "      <th>room_type</th>\n",
       "      <th>accommodates</th>\n",
       "      <th>beds</th>\n",
       "      <th>amenities</th>\n",
       "      <th>price</th>\n",
       "      <th>minimum_nights</th>\n",
       "      <th>maximum_nights</th>\n",
       "      <th>minimum_nights_avg_ntm</th>\n",
       "      <th>maximum_nights_avg_ntm</th>\n",
       "      <th>availability_30</th>\n",
       "      <th>availability_60</th>\n",
       "      <th>availability_90</th>\n",
       "      <th>availability_365</th>\n",
       "      <th>number_of_reviews</th>\n",
       "      <th>number_of_reviews_ltm</th>\n",
       "      <th>review_scores_rating</th>\n",
       "      <th>review_scores_accuracy</th>\n",
       "      <th>review_scores_cleanliness</th>\n",
       "      <th>review_scores_checkin</th>\n",
       "      <th>review_scores_communication</th>\n",
       "      <th>review_scores_location</th>\n",
       "      <th>review_scores_value</th>\n",
       "      <th>instant_bookable</th>\n",
       "      <th>calculated_host_listings_count</th>\n",
       "      <th>reviews_per_month</th>\n",
       "      <th>monthly_revenue</th>\n",
       "    </tr>\n",
       "  </thead>\n",
       "  <tbody>\n",
       "    <tr>\n",
       "      <th>0</th>\n",
       "      <td>57488206</td>\n",
       "      <td>Jessi</td>\n",
       "      <td>f</td>\n",
       "      <td>3</td>\n",
       "      <td>3</td>\n",
       "      <td>Vancouver, British Columbia, Canada</td>\n",
       "      <td>Hastings-Sunrise</td>\n",
       "      <td>49.283570</td>\n",
       "      <td>-123.056490</td>\n",
       "      <td>Entire home</td>\n",
       "      <td>Entire home/apt</td>\n",
       "      <td>2</td>\n",
       "      <td>1.0</td>\n",
       "      <td>[]</td>\n",
       "      <td>NaN</td>\n",
       "      <td>3</td>\n",
       "      <td>30</td>\n",
       "      <td>2.7</td>\n",
       "      <td>30.0</td>\n",
       "      <td>0</td>\n",
       "      <td>0</td>\n",
       "      <td>0</td>\n",
       "      <td>0</td>\n",
       "      <td>60</td>\n",
       "      <td>0</td>\n",
       "      <td>4.75</td>\n",
       "      <td>4.80</td>\n",
       "      <td>4.82</td>\n",
       "      <td>4.90</td>\n",
       "      <td>4.87</td>\n",
       "      <td>4.69</td>\n",
       "      <td>4.81</td>\n",
       "      <td>f</td>\n",
       "      <td>3</td>\n",
       "      <td>0.77</td>\n",
       "      <td>2108</td>\n",
       "    </tr>\n",
       "    <tr>\n",
       "      <th>1</th>\n",
       "      <td>139792573</td>\n",
       "      <td>Daniel</td>\n",
       "      <td>f</td>\n",
       "      <td>1</td>\n",
       "      <td>4</td>\n",
       "      <td>NaN</td>\n",
       "      <td>Sunset</td>\n",
       "      <td>49.221120</td>\n",
       "      <td>-123.092320</td>\n",
       "      <td>Entire guest suite</td>\n",
       "      <td>Entire home/apt</td>\n",
       "      <td>5</td>\n",
       "      <td>2.0</td>\n",
       "      <td>[]</td>\n",
       "      <td>$132.00</td>\n",
       "      <td>1</td>\n",
       "      <td>365</td>\n",
       "      <td>1.0</td>\n",
       "      <td>365.0</td>\n",
       "      <td>27</td>\n",
       "      <td>57</td>\n",
       "      <td>86</td>\n",
       "      <td>86</td>\n",
       "      <td>0</td>\n",
       "      <td>0</td>\n",
       "      <td>NaN</td>\n",
       "      <td>NaN</td>\n",
       "      <td>NaN</td>\n",
       "      <td>NaN</td>\n",
       "      <td>NaN</td>\n",
       "      <td>NaN</td>\n",
       "      <td>NaN</td>\n",
       "      <td>f</td>\n",
       "      <td>1</td>\n",
       "      <td>NaN</td>\n",
       "      <td>2730</td>\n",
       "    </tr>\n",
       "    <tr>\n",
       "      <th>2</th>\n",
       "      <td>265504225</td>\n",
       "      <td>Alex</td>\n",
       "      <td>t</td>\n",
       "      <td>1</td>\n",
       "      <td>1</td>\n",
       "      <td>Vancouver, British Columbia, Canada</td>\n",
       "      <td>Riley Park</td>\n",
       "      <td>49.252140</td>\n",
       "      <td>-123.098170</td>\n",
       "      <td>Entire guest suite</td>\n",
       "      <td>Entire home/apt</td>\n",
       "      <td>6</td>\n",
       "      <td>3.0</td>\n",
       "      <td>[]</td>\n",
       "      <td>$119.00</td>\n",
       "      <td>1</td>\n",
       "      <td>30</td>\n",
       "      <td>1.0</td>\n",
       "      <td>30.0</td>\n",
       "      <td>0</td>\n",
       "      <td>0</td>\n",
       "      <td>0</td>\n",
       "      <td>9</td>\n",
       "      <td>176</td>\n",
       "      <td>55</td>\n",
       "      <td>4.85</td>\n",
       "      <td>4.90</td>\n",
       "      <td>4.78</td>\n",
       "      <td>4.97</td>\n",
       "      <td>4.94</td>\n",
       "      <td>4.90</td>\n",
       "      <td>4.75</td>\n",
       "      <td>f</td>\n",
       "      <td>1</td>\n",
       "      <td>3.22</td>\n",
       "      <td>2254</td>\n",
       "    </tr>\n",
       "    <tr>\n",
       "      <th>3</th>\n",
       "      <td>22595056</td>\n",
       "      <td>Raymond</td>\n",
       "      <td>t</td>\n",
       "      <td>1</td>\n",
       "      <td>1</td>\n",
       "      <td>Vancouver, British Columbia, Canada</td>\n",
       "      <td>Sunset</td>\n",
       "      <td>49.221709</td>\n",
       "      <td>-123.097762</td>\n",
       "      <td>Entire home</td>\n",
       "      <td>Entire home/apt</td>\n",
       "      <td>2</td>\n",
       "      <td>1.0</td>\n",
       "      <td>[]</td>\n",
       "      <td>$263.00</td>\n",
       "      <td>2</td>\n",
       "      <td>7</td>\n",
       "      <td>2.0</td>\n",
       "      <td>7.0</td>\n",
       "      <td>30</td>\n",
       "      <td>60</td>\n",
       "      <td>90</td>\n",
       "      <td>179</td>\n",
       "      <td>7</td>\n",
       "      <td>7</td>\n",
       "      <td>5.00</td>\n",
       "      <td>5.00</td>\n",
       "      <td>5.00</td>\n",
       "      <td>5.00</td>\n",
       "      <td>5.00</td>\n",
       "      <td>4.86</td>\n",
       "      <td>5.00</td>\n",
       "      <td>f</td>\n",
       "      <td>1</td>\n",
       "      <td>1.28</td>\n",
       "      <td>3187</td>\n",
       "    </tr>\n",
       "    <tr>\n",
       "      <th>4</th>\n",
       "      <td>65683877</td>\n",
       "      <td>Yendi</td>\n",
       "      <td>t</td>\n",
       "      <td>2</td>\n",
       "      <td>3</td>\n",
       "      <td>Vancouver, British Columbia, Canada</td>\n",
       "      <td>Kitsilano</td>\n",
       "      <td>49.258980</td>\n",
       "      <td>-123.161790</td>\n",
       "      <td>Entire guest suite</td>\n",
       "      <td>Entire home/apt</td>\n",
       "      <td>4</td>\n",
       "      <td>2.0</td>\n",
       "      <td>[]</td>\n",
       "      <td>$112.00</td>\n",
       "      <td>2</td>\n",
       "      <td>180</td>\n",
       "      <td>2.4</td>\n",
       "      <td>1125.0</td>\n",
       "      <td>15</td>\n",
       "      <td>32</td>\n",
       "      <td>45</td>\n",
       "      <td>104</td>\n",
       "      <td>73</td>\n",
       "      <td>31</td>\n",
       "      <td>4.93</td>\n",
       "      <td>4.93</td>\n",
       "      <td>4.89</td>\n",
       "      <td>4.97</td>\n",
       "      <td>4.97</td>\n",
       "      <td>4.96</td>\n",
       "      <td>4.85</td>\n",
       "      <td>f</td>\n",
       "      <td>1</td>\n",
       "      <td>2.01</td>\n",
       "      <td>3479</td>\n",
       "    </tr>\n",
       "  </tbody>\n",
       "</table>\n",
       "</div>"
      ],
      "text/plain": [
       "     host_id host_name host_is_superhost  host_listings_count  \\\n",
       "0   57488206     Jessi                 f                    3   \n",
       "1  139792573    Daniel                 f                    1   \n",
       "2  265504225      Alex                 t                    1   \n",
       "3   22595056   Raymond                 t                    1   \n",
       "4   65683877     Yendi                 t                    2   \n",
       "\n",
       "   host_total_listings_count                        neighbourhood  \\\n",
       "0                          3  Vancouver, British Columbia, Canada   \n",
       "1                          4                                  NaN   \n",
       "2                          1  Vancouver, British Columbia, Canada   \n",
       "3                          1  Vancouver, British Columbia, Canada   \n",
       "4                          3  Vancouver, British Columbia, Canada   \n",
       "\n",
       "  neighbourhood_cleansed   latitude   longitude       property_type  \\\n",
       "0       Hastings-Sunrise  49.283570 -123.056490         Entire home   \n",
       "1                 Sunset  49.221120 -123.092320  Entire guest suite   \n",
       "2             Riley Park  49.252140 -123.098170  Entire guest suite   \n",
       "3                 Sunset  49.221709 -123.097762         Entire home   \n",
       "4              Kitsilano  49.258980 -123.161790  Entire guest suite   \n",
       "\n",
       "         room_type  accommodates  beds amenities    price  minimum_nights  \\\n",
       "0  Entire home/apt             2   1.0        []      NaN               3   \n",
       "1  Entire home/apt             5   2.0        []  $132.00               1   \n",
       "2  Entire home/apt             6   3.0        []  $119.00               1   \n",
       "3  Entire home/apt             2   1.0        []  $263.00               2   \n",
       "4  Entire home/apt             4   2.0        []  $112.00               2   \n",
       "\n",
       "   maximum_nights  minimum_nights_avg_ntm  maximum_nights_avg_ntm  \\\n",
       "0              30                     2.7                    30.0   \n",
       "1             365                     1.0                   365.0   \n",
       "2              30                     1.0                    30.0   \n",
       "3               7                     2.0                     7.0   \n",
       "4             180                     2.4                  1125.0   \n",
       "\n",
       "   availability_30  availability_60  availability_90  availability_365  \\\n",
       "0                0                0                0                 0   \n",
       "1               27               57               86                86   \n",
       "2                0                0                0                 9   \n",
       "3               30               60               90               179   \n",
       "4               15               32               45               104   \n",
       "\n",
       "   number_of_reviews  number_of_reviews_ltm  review_scores_rating  \\\n",
       "0                 60                      0                  4.75   \n",
       "1                  0                      0                   NaN   \n",
       "2                176                     55                  4.85   \n",
       "3                  7                      7                  5.00   \n",
       "4                 73                     31                  4.93   \n",
       "\n",
       "   review_scores_accuracy  review_scores_cleanliness  review_scores_checkin  \\\n",
       "0                    4.80                       4.82                   4.90   \n",
       "1                     NaN                        NaN                    NaN   \n",
       "2                    4.90                       4.78                   4.97   \n",
       "3                    5.00                       5.00                   5.00   \n",
       "4                    4.93                       4.89                   4.97   \n",
       "\n",
       "   review_scores_communication  review_scores_location  review_scores_value  \\\n",
       "0                         4.87                    4.69                 4.81   \n",
       "1                          NaN                     NaN                  NaN   \n",
       "2                         4.94                    4.90                 4.75   \n",
       "3                         5.00                    4.86                 5.00   \n",
       "4                         4.97                    4.96                 4.85   \n",
       "\n",
       "  instant_bookable  calculated_host_listings_count  reviews_per_month  \\\n",
       "0                f                               3               0.77   \n",
       "1                f                               1                NaN   \n",
       "2                f                               1               3.22   \n",
       "3                f                               1               1.28   \n",
       "4                f                               1               2.01   \n",
       "\n",
       "   monthly_revenue  \n",
       "0             2108  \n",
       "1             2730  \n",
       "2             2254  \n",
       "3             3187  \n",
       "4             3479  "
      ]
     },
     "execution_count": 177,
     "metadata": {},
     "output_type": "execute_result"
    }
   ],
   "source": [
    "train_data.head()"
   ]
  },
  {
   "cell_type": "code",
   "execution_count": 178,
   "metadata": {},
   "outputs": [
    {
     "name": "stderr",
     "output_type": "stream",
     "text": [
      "/var/folders/pc/nrykqdjs07gckgpv7069mg0r0000gn/T/ipykernel_18140/1309529532.py:12: FutureWarning: Downcasting behavior in `replace` is deprecated and will be removed in a future version. To retain the old behavior, explicitly call `result.infer_objects(copy=False)`. To opt-in to the future behavior, set `pd.set_option('future.no_silent_downcasting', True)`\n",
      "  train_data['instant_bookable'] = train_data['instant_bookable'].replace({'t': True, 'f': False})\n",
      "/var/folders/pc/nrykqdjs07gckgpv7069mg0r0000gn/T/ipykernel_18140/1309529532.py:37: FutureWarning: Downcasting behavior in `replace` is deprecated and will be removed in a future version. To retain the old behavior, explicitly call `result.infer_objects(copy=False)`. To opt-in to the future behavior, set `pd.set_option('future.no_silent_downcasting', True)`\n",
      "  test_data['instant_bookable'] = test_data['instant_bookable'].replace({'t': True, 'f': False})\n"
     ]
    }
   ],
   "source": [
    "from sklearn.impute import SimpleImputer\n",
    "import numpy as np\n",
    "import pandas as pd\n",
    "\n",
    "# fill null values in numeric columns with mean\n",
    "num_imputer = SimpleImputer(strategy='mean')\n",
    "numeric_columns = train_data.select_dtypes(include=['float64', 'int64']).columns\n",
    "train_data[numeric_columns] = num_imputer.fit_transform(train_data[numeric_columns])\n",
    "\n",
    "# fill null values in boolean columns with most frequent values\n",
    "train_data['host_is_superhost'] = train_data['host_is_superhost'].replace({'t': True, 'f': False})\n",
    "train_data['instant_bookable'] = train_data['instant_bookable'].replace({'t': True, 'f': False})\n",
    "bool_imputer = SimpleImputer(strategy='most_frequent')\n",
    "boolean_columns = ['host_is_superhost', 'instant_bookable']\n",
    "train_data[boolean_columns] = bool_imputer.fit_transform(train_data[boolean_columns])\n",
    "\n",
    "\n",
    "# fill null values in categorical columns with \"Unknown\"\n",
    "cat_imputer = SimpleImputer(strategy='constant', fill_value='Unknown')\n",
    "categorical_columns = train_data.select_dtypes(include=['object']).columns\n",
    "train_data[categorical_columns] = cat_imputer.fit_transform(train_data[categorical_columns])\n",
    "\n",
    "# now for test_data\n",
    "\n",
    "from sklearn.impute import SimpleImputer\n",
    "import pandas as pd\n",
    "\n",
    "# Assuming `test_data` is already loaded and needs preprocessing\n",
    "\n",
    "# Fill null values in numeric columns with the mean\n",
    "num_imputer = SimpleImputer(strategy='mean')\n",
    "numeric_columns = test_data.select_dtypes(include=['float64', 'int64']).columns\n",
    "test_data[numeric_columns] = num_imputer.fit_transform(test_data[numeric_columns])\n",
    "\n",
    "# Fill null values in boolean columns with the most frequent values\n",
    "test_data['host_is_superhost'] = test_data['host_is_superhost'].replace({'t': True, 'f': False})\n",
    "test_data['instant_bookable'] = test_data['instant_bookable'].replace({'t': True, 'f': False})\n",
    "bool_imputer = SimpleImputer(strategy='most_frequent')\n",
    "boolean_columns = ['host_is_superhost', 'instant_bookable']\n",
    "test_data[boolean_columns] = bool_imputer.fit_transform(test_data[boolean_columns])\n",
    "\n",
    "# Fill null values in categorical columns with \"Unknown\"\n",
    "cat_imputer = SimpleImputer(strategy='constant', fill_value='Unknown')\n",
    "categorical_columns = test_data.select_dtypes(include=['object']).columns\n",
    "test_data[categorical_columns] = cat_imputer.fit_transform(test_data[categorical_columns])\n"
   ]
  },
  {
   "cell_type": "code",
   "execution_count": 179,
   "metadata": {},
   "outputs": [
    {
     "name": "stdout",
     "output_type": "stream",
     "text": [
      "host_id                           float64\n",
      "host_name                          object\n",
      "host_is_superhost                  object\n",
      "host_listings_count               float64\n",
      "host_total_listings_count         float64\n",
      "neighbourhood                      object\n",
      "neighbourhood_cleansed             object\n",
      "latitude                          float64\n",
      "longitude                         float64\n",
      "property_type                      object\n",
      "room_type                          object\n",
      "accommodates                      float64\n",
      "beds                              float64\n",
      "amenities                          object\n",
      "price                              object\n",
      "minimum_nights                    float64\n",
      "maximum_nights                    float64\n",
      "minimum_nights_avg_ntm            float64\n",
      "maximum_nights_avg_ntm            float64\n",
      "availability_30                   float64\n",
      "availability_60                   float64\n",
      "availability_90                   float64\n",
      "availability_365                  float64\n",
      "number_of_reviews                 float64\n",
      "number_of_reviews_ltm             float64\n",
      "review_scores_rating              float64\n",
      "review_scores_accuracy            float64\n",
      "review_scores_cleanliness         float64\n",
      "review_scores_checkin             float64\n",
      "review_scores_communication       float64\n",
      "review_scores_location            float64\n",
      "review_scores_value               float64\n",
      "instant_bookable                   object\n",
      "calculated_host_listings_count    float64\n",
      "reviews_per_month                 float64\n",
      "monthly_revenue                   float64\n",
      "dtype: object\n"
     ]
    }
   ],
   "source": [
    "print(train_data.dtypes)"
   ]
  },
  {
   "cell_type": "code",
   "execution_count": 180,
   "metadata": {},
   "outputs": [],
   "source": [
    "from sklearn.preprocessing import OneHotEncoder\n",
    "import pandas as pd\n",
    "\n",
    "# Encoding boolean variables\n",
    "boolean_columns = ['host_is_superhost', 'instant_bookable']\n",
    "train_data[boolean_columns] = train_data[boolean_columns].astype(bool)\n",
    "\n",
    "# One-Hot Encoding for categorical variables (with more than two unique categories)\n",
    "categorical_columns = train_data.select_dtypes(include=['object']).columns\n",
    "cat_imputer = SimpleImputer(strategy='constant', fill_value='Unknown')\n",
    "train_data[categorical_columns] = cat_imputer.fit_transform(train_data[categorical_columns])\n",
    "\n",
    "# OneHotEncoder for categorical variables\n",
    "one_hot_encoder = OneHotEncoder(sparse_output=False, drop='first')  # Updated parameter name 'sparse_output'\n",
    "encoded_categories = one_hot_encoder.fit_transform(train_data[categorical_columns])\n",
    "\n",
    "# Convert the OneHotEncoded data to DataFrame\n",
    "encoded_df = pd.DataFrame(encoded_categories, columns=one_hot_encoder.get_feature_names_out(categorical_columns))\n",
    "\n",
    "# Add the encoded columns to the original DataFrame\n",
    "train_data = pd.concat([train_data, encoded_df], axis=1)\n",
    "\n",
    "# Drop the original categorical columns after encoding\n",
    "train_data.drop(columns=categorical_columns, inplace=True)\n",
    "\n",
    "# Now, train_data is ready for machine learning models\n",
    "\n",
    "# test_data too\n",
    "boolean_columns = ['host_is_superhost', 'instant_bookable']\n",
    "test_data[boolean_columns] = test_data[boolean_columns].astype(bool)\n",
    "\n",
    "# One-Hot Encoding for categorical variables (with more than two unique categories)\n",
    "categorical_columns = test_data.select_dtypes(include=['object']).columns\n",
    "\n",
    "# Fill null values in categorical columns with \"Unknown\"\n",
    "cat_imputer = SimpleImputer(strategy='constant', fill_value='Unknown')\n",
    "test_data[categorical_columns] = cat_imputer.fit_transform(test_data[categorical_columns])\n",
    "\n",
    "# OneHotEncoder for categorical variables\n",
    "one_hot_encoder = OneHotEncoder(sparse_output=False, drop='first')  # Updated parameter name 'sparse_output'\n",
    "encoded_categories = one_hot_encoder.fit_transform(test_data[categorical_columns])\n",
    "\n",
    "# Convert the OneHotEncoded data to DataFrame\n",
    "encoded_df = pd.DataFrame(encoded_categories, columns=one_hot_encoder.get_feature_names_out(categorical_columns))\n",
    "\n",
    "# Add the encoded columns to the original DataFrame\n",
    "test_data = pd.concat([test_data, encoded_df], axis=1)\n",
    "\n",
    "# Drop the original categorical columns after encoding\n",
    "test_data.drop(columns=categorical_columns, inplace=True)\n"
   ]
  },
  {
   "cell_type": "code",
   "execution_count": 107,
   "metadata": {},
   "outputs": [
    {
     "name": "stdout",
     "output_type": "stream",
     "text": [
      "Index(['host_id', 'host_is_superhost', 'host_listings_count',\n",
      "       'host_total_listings_count', 'latitude', 'longitude', 'accommodates',\n",
      "       'beds', 'minimum_nights', 'maximum_nights',\n",
      "       ...\n",
      "       'price_$968.00', 'price_$97.00', 'price_$970.00', 'price_$98.00',\n",
      "       'price_$985.00', 'price_$988.00', 'price_$99.00', 'price_$995.00',\n",
      "       'price_$999.00', 'price_Unknown'],\n",
      "      dtype='object', length=2721)\n"
     ]
    }
   ],
   "source": [
    "print(train_data.columns)"
   ]
  },
  {
   "cell_type": "code",
   "execution_count": 182,
   "metadata": {},
   "outputs": [],
   "source": [
    "# scale numeric variables\n",
    "from sklearn.preprocessing import StandardScaler\n",
    "scaler = StandardScaler()\n",
    "train_data[numeric_columns] = scaler.fit_transform(train_data[numeric_columns])\n",
    "\n",
    "from sklearn.preprocessing import StandardScaler\n",
    "scaler = StandardScaler()\n",
    "test_data[numeric_columns] = scaler.fit_transform(test_data[numeric_columns])"
   ]
  },
  {
   "cell_type": "code",
   "execution_count": 109,
   "metadata": {},
   "outputs": [],
   "source": [
    "# use the Interquartile Range (IQR) method to remove outliers\n",
    "Q1 = train_data[numeric_columns].quantile(0.25)\n",
    "Q3 = train_data[numeric_columns].quantile(0.75)\n",
    "IQR = Q3 - Q1\n",
    "train_data = train_data[~((train_data[numeric_columns] < (Q1 - 1.5 * IQR)) | (train_data[numeric_columns] > (Q3 + 1.5 * IQR))).any(axis=1)]"
   ]
  },
  {
   "cell_type": "code",
   "execution_count": 110,
   "metadata": {},
   "outputs": [
    {
     "name": "stdout",
     "output_type": "stream",
     "text": [
      "host_id                      float64\n",
      "host_is_superhost               bool\n",
      "host_listings_count          float64\n",
      "host_total_listings_count    float64\n",
      "latitude                     float64\n",
      "                              ...   \n",
      "price_$988.00                float64\n",
      "price_$99.00                 float64\n",
      "price_$995.00                float64\n",
      "price_$999.00                float64\n",
      "price_Unknown                float64\n",
      "Length: 2721, dtype: object\n",
      "Index(['host_id', 'host_is_superhost', 'host_listings_count',\n",
      "       'host_total_listings_count', 'latitude', 'longitude', 'accommodates',\n",
      "       'beds', 'minimum_nights', 'maximum_nights',\n",
      "       ...\n",
      "       'price_$968.00', 'price_$97.00', 'price_$970.00', 'price_$98.00',\n",
      "       'price_$985.00', 'price_$988.00', 'price_$99.00', 'price_$995.00',\n",
      "       'price_$999.00', 'price_Unknown'],\n",
      "      dtype='object', length=2721)\n"
     ]
    }
   ],
   "source": [
    "print(train_data.dtypes)\n",
    "print(train_data.columns)"
   ]
  },
  {
   "cell_type": "code",
   "execution_count": 111,
   "metadata": {},
   "outputs": [],
   "source": [
    "# x_train set and y_train \n",
    "X_train = train_data.drop(columns=['monthly_revenue'])\n",
    "y_train = train_data['monthly_revenue']"
   ]
  },
  {
   "cell_type": "code",
   "execution_count": 112,
   "metadata": {},
   "outputs": [],
   "source": [
    "from sklearn.model_selection import train_test_split\n",
    "X = train_data.drop(columns=['monthly_revenue'])  \n",
    "y = train_data['monthly_revenue']\n",
    "\n",
    "X_train, X_test, y_train, y_test = train_test_split(X, y, test_size=0.2, random_state=42)"
   ]
  },
  {
   "cell_type": "markdown",
   "metadata": {},
   "source": [
    "# Model selection"
   ]
  },
  {
   "cell_type": "code",
   "execution_count": 113,
   "metadata": {},
   "outputs": [
    {
     "name": "stdout",
     "output_type": "stream",
     "text": [
      "host_id                      float64\n",
      "host_is_superhost               bool\n",
      "host_listings_count          float64\n",
      "host_total_listings_count    float64\n",
      "latitude                     float64\n",
      "                              ...   \n",
      "price_$988.00                float64\n",
      "price_$99.00                 float64\n",
      "price_$995.00                float64\n",
      "price_$999.00                float64\n",
      "price_Unknown                float64\n",
      "Length: 2720, dtype: object\n"
     ]
    }
   ],
   "source": [
    "print(X_train.dtypes)"
   ]
  },
  {
   "cell_type": "code",
   "execution_count": 114,
   "metadata": {},
   "outputs": [
    {
     "name": "stdout",
     "output_type": "stream",
     "text": [
      "0\n",
      "0\n"
     ]
    }
   ],
   "source": [
    "print(X_train.isnull().sum().sum())\n",
    "print(X_test.isnull().sum().sum())\n"
   ]
  },
  {
   "cell_type": "code",
   "execution_count": 115,
   "metadata": {},
   "outputs": [
    {
     "name": "stdout",
     "output_type": "stream",
     "text": [
      "host_id                      float64\n",
      "host_is_superhost               bool\n",
      "host_listings_count          float64\n",
      "host_total_listings_count    float64\n",
      "latitude                     float64\n",
      "                              ...   \n",
      "price_$988.00                float64\n",
      "price_$99.00                 float64\n",
      "price_$995.00                float64\n",
      "price_$999.00                float64\n",
      "price_Unknown                float64\n",
      "Length: 2720, dtype: object\n",
      "<class 'pandas.core.frame.DataFrame'>\n"
     ]
    }
   ],
   "source": [
    "import pandas as pd\n",
    "pd.set_option('display.max_columns', None)  # Show all columns\n",
    "\n",
    "# Print all dtypes\n",
    "print(X_train.dtypes)\n",
    "print(type(X_train))"
   ]
  },
  {
   "cell_type": "code",
   "execution_count": 118,
   "metadata": {},
   "outputs": [
    {
     "name": "stdout",
     "output_type": "stream",
     "text": [
      "[LightGBM] [Info] Auto-choosing row-wise multi-threading, the overhead of testing was 0.001234 seconds.\n",
      "You can set `force_row_wise=true` to remove the overhead.\n",
      "And if memory is not enough, you can set `force_col_wise=true`.\n",
      "[LightGBM] [Info] Total Bins 2267\n",
      "[LightGBM] [Info] Number of data points in the train set: 1924, number of used features: 73\n",
      "[LightGBM] [Info] Start training from score -0.058168\n",
      "Linear Regression - MSE: 787463653780311244800.0000, R2: -925055918481128292352.0000\n",
      "Random Forest - MSE: 0.7560, R2: 0.1119\n",
      "SVR - MSE: 0.7885, R2: 0.0738\n",
      "KNN - MSE: 0.8733, R2: -0.0259\n",
      "Gradient Boosting - MSE: 0.7268, R2: 0.1462\n",
      "XGBoost - MSE: 0.8183, R2: 0.0387\n",
      "LightGBM - MSE: 0.8052, R2: 0.0541\n"
     ]
    }
   ],
   "source": [
    "from sklearn.linear_model import LinearRegression\n",
    "from sklearn.ensemble import RandomForestRegressor\n",
    "from sklearn.svm import SVR\n",
    "from sklearn.neighbors import KNeighborsRegressor\n",
    "from sklearn.model_selection import GridSearchCV, RandomizedSearchCV\n",
    "from sklearn.metrics import mean_squared_error, r2_score\n",
    "from sklearn.ensemble import GradientBoostingRegressor\n",
    "import xgboost as xgb\n",
    "import lightgbm as lgb\n",
    "\n",
    "models = {\n",
    "    'Linear Regression': LinearRegression(),\n",
    "    'Random Forest': RandomForestRegressor(),\n",
    "    'SVR': SVR(),\n",
    "    'KNN': KNeighborsRegressor(),\n",
    "    'Gradient Boosting': GradientBoostingRegressor(),\n",
    "    'XGBoost': xgb.XGBRegressor(),\n",
    "    'LightGBM': lgb.LGBMRegressor()\n",
    "}\n",
    "\n",
    "results = {}\n",
    "\n",
    "# Check if any feature names contain invalid characters\n",
    "X_train.columns = [col.replace(\"[\", \"\").replace(\"]\", \"\").replace(\"<\", \"\") for col in X_train.columns]\n",
    "X_test.columns = [col.replace(\"[\", \"\").replace(\"]\", \"\").replace(\"<\", \"\") for col in X_test.columns]\n",
    "X_train.columns = [col.replace(\" \", \"_\").replace(\":\", \"\").replace(\",\", \"\") for col in X_train.columns]\n",
    "X_test.columns = [col.replace(\" \", \"_\").replace(\":\", \"\").replace(\",\", \"\") for col in X_test.columns]\n",
    "X_train.columns = [col.strip() for col in X_train.columns]\n",
    "X_test.columns = [col.strip() for col in X_test.columns]\n",
    "\n",
    "\n",
    "# Train and evaluate each model\n",
    "for name, model in models.items():\n",
    "    # Fit the model\n",
    "    model.fit(X_train, y_train)\n",
    "    \n",
    "    # Make predictions\n",
    "    y_pred = model.predict(X_test)\n",
    "    \n",
    "    # Calculate metrics\n",
    "    mse = mean_squared_error(y_test, y_pred)\n",
    "    r2 = r2_score(y_test, y_pred)\n",
    "    \n",
    "    # Store results\n",
    "    results[name] = {'MSE': mse, 'R2': r2}\n",
    "\n",
    "# Print out results\n",
    "for model_name, metrics in results.items():\n",
    "    print(f\"{model_name} - MSE: {metrics['MSE']:.4f}, R2: {metrics['R2']:.4f}\")"
   ]
  },
  {
   "cell_type": "markdown",
   "metadata": {},
   "source": [
    "(1) random forest, (2) gradient boosting, (3) xgboost"
   ]
  },
  {
   "cell_type": "code",
   "execution_count": 88,
   "metadata": {},
   "outputs": [
    {
     "name": "stdout",
     "output_type": "stream",
     "text": [
      "Best Hyperparameters: {'bootstrap': True, 'max_depth': 10, 'min_samples_leaf': 4, 'min_samples_split': 10, 'n_estimators': 300}\n"
     ]
    }
   ],
   "source": [
    "# (1) random forest\n",
    "rf = RandomForestRegressor(random_state=42)\n",
    "\n",
    "# Define the parameter grid (gridsearch CV)\n",
    "param_grid = {\n",
    "    'n_estimators': [100, 200, 300],          # Number of trees\n",
    "    'max_depth': [None, 10, 20, 30],           # Depth of each tree\n",
    "    'min_samples_split': [2, 5, 10],           # Minimum samples required to split an internal node\n",
    "    'min_samples_leaf': [1, 2, 4],             # Minimum samples required to be at a leaf node\n",
    "    'bootstrap': [True, False]                 # Whether bootstrap samples are used when building trees\n",
    "}\n",
    "\n",
    "# Initialize GridSearchCV with Random Forest and the parameter grid\n",
    "grid_search = GridSearchCV(estimator=rf, param_grid=param_grid, cv=5, n_jobs=-1, scoring='neg_mean_squared_error')\n",
    "\n",
    "# Fit the model\n",
    "grid_search.fit(X_train, y_train)\n",
    "\n",
    "# Get the best hyperparameters\n",
    "print(\"Best Hyperparameters:\", grid_search.best_params_)\n",
    "\n",
    "# Get the best model\n",
    "best_rf_model = grid_search.best_estimator_"
   ]
  },
  {
   "cell_type": "code",
   "execution_count": 89,
   "metadata": {},
   "outputs": [
    {
     "name": "stdout",
     "output_type": "stream",
     "text": [
      "Test MSE: 0.7217\n",
      "Test R2: 0.1522\n"
     ]
    }
   ],
   "source": [
    "# evaluate random forest model\n",
    "y_pred = best_rf_model.predict(X_test)\n",
    "\n",
    "# Calculate performance metrics\n",
    "from sklearn.metrics import mean_squared_error, r2_score\n",
    "\n",
    "mse = mean_squared_error(y_test, y_pred)\n",
    "r2 = r2_score(y_test, y_pred)\n",
    "\n",
    "print(f\"Test MSE: {mse:.4f}\")\n",
    "print(f\"Test R2: {r2:.4f}\")\n"
   ]
  },
  {
   "cell_type": "code",
   "execution_count": 91,
   "metadata": {},
   "outputs": [
    {
     "name": "stdout",
     "output_type": "stream",
     "text": [
      "Cross-Validation MSE: 0.6953 (+/- 0.0648)\n"
     ]
    }
   ],
   "source": [
    "from sklearn.model_selection import cross_val_score\n",
    "\n",
    "# Perform cross-validation\n",
    "cv_scores = cross_val_score(best_rf_model, X_train, y_train, cv=5, scoring='neg_mean_squared_error')\n",
    "\n",
    "# Print the cross-validation results\n",
    "print(f\"Cross-Validation MSE: {-cv_scores.mean():.4f} (+/- {cv_scores.std():.4f})\")"
   ]
  },
  {
   "cell_type": "code",
   "execution_count": 92,
   "metadata": {},
   "outputs": [
    {
     "name": "stdout",
     "output_type": "stream",
     "text": [
      "Best Hyperparameters for Gradient Boosting: {'learning_rate': 0.01, 'max_depth': 3, 'min_samples_leaf': 4, 'min_samples_split': 10, 'n_estimators': 300, 'subsample': 0.8}\n"
     ]
    }
   ],
   "source": [
    "# (2) gradient boosting\n",
    "from sklearn.ensemble import GradientBoostingRegressor\n",
    "from sklearn.model_selection import GridSearchCV\n",
    "from sklearn.metrics import mean_squared_error, r2_score\n",
    "\n",
    "# Initialize the Gradient Boosting Regressor\n",
    "gb = GradientBoostingRegressor(random_state=42)\n",
    "\n",
    "# Define the parameter grid for GridSearchCV\n",
    "param_grid = {\n",
    "    'n_estimators': [100, 200, 300],  # Number of trees\n",
    "    'max_depth': [3, 5, 10],           # Depth of each tree\n",
    "    'learning_rate': [0.01, 0.05, 0.1], # Learning rate\n",
    "    'subsample': [0.8, 0.9, 1.0],      # Fraction of samples used for training each tree\n",
    "    'min_samples_split': [2, 5, 10],    # Minimum samples required to split an internal node\n",
    "    'min_samples_leaf': [1, 2, 4]       # Minimum samples required to be at a leaf node\n",
    "}\n",
    "\n",
    "# Initialize GridSearchCV with Gradient Boosting and the parameter grid\n",
    "grid_search_gb = GridSearchCV(estimator=gb, param_grid=param_grid, cv=5, n_jobs=-1, scoring='neg_mean_squared_error')\n",
    "\n",
    "# Fit the model\n",
    "grid_search_gb.fit(X_train, y_train)\n",
    "\n",
    "# Get the best hyperparameters\n",
    "print(\"Best Hyperparameters for Gradient Boosting:\", grid_search_gb.best_params_)\n",
    "\n",
    "# Get the best model\n",
    "best_gb_model = grid_search_gb.best_estimator_"
   ]
  },
  {
   "cell_type": "code",
   "execution_count": 93,
   "metadata": {},
   "outputs": [
    {
     "name": "stdout",
     "output_type": "stream",
     "text": [
      "Test MSE: 0.7071\n",
      "Test R2: 0.1693\n"
     ]
    }
   ],
   "source": [
    "# evaluate random forest model\n",
    "y_pred_gb = best_gb_model.predict(X_test)\n",
    "\n",
    "# Calculate performance metrics\n",
    "from sklearn.metrics import mean_squared_error, r2_score\n",
    "\n",
    "mse = mean_squared_error(y_test, y_pred_gb)\n",
    "r2 = r2_score(y_test, y_pred_gb)\n",
    "\n",
    "print(f\"Test MSE: {mse:.4f}\")\n",
    "print(f\"Test R2: {r2:.4f}\")"
   ]
  },
  {
   "cell_type": "code",
   "execution_count": 94,
   "metadata": {},
   "outputs": [
    {
     "name": "stdout",
     "output_type": "stream",
     "text": [
      "Cross-Validation MSE: 0.6825 (+/- 0.0622)\n"
     ]
    }
   ],
   "source": [
    "from sklearn.model_selection import cross_val_score\n",
    "\n",
    "# Perform cross-validation\n",
    "cv_scores = cross_val_score(best_gb_model, X_train, y_train, cv=5, scoring='neg_mean_squared_error')\n",
    "\n",
    "# Print the cross-validation results\n",
    "print(f\"Cross-Validation MSE: {-cv_scores.mean():.4f} (+/- {cv_scores.std():.4f})\")"
   ]
  },
  {
   "cell_type": "code",
   "execution_count": 119,
   "metadata": {},
   "outputs": [
    {
     "name": "stderr",
     "output_type": "stream",
     "text": [
      "/Users/isobeladams/.pyenv/versions/3.10.10/lib/python3.10/site-packages/joblib/externals/loky/process_executor.py:752: UserWarning: A worker stopped while some jobs were given to the executor. This can be caused by a too short worker timeout or by a memory leak.\n",
      "  warnings.warn(\n"
     ]
    },
    {
     "name": "stdout",
     "output_type": "stream",
     "text": [
      "Best Hyperparameters for XGBoost: {'colsample_bytree': 1.0, 'learning_rate': 0.01, 'max_depth': 3, 'min_child_weight': 10, 'n_estimators': 300, 'subsample': 0.8}\n"
     ]
    }
   ],
   "source": [
    "# (3) xgb model\n",
    "import xgboost as xgb\n",
    "from sklearn.model_selection import GridSearchCV\n",
    "from sklearn.metrics import mean_squared_error, r2_score\n",
    "\n",
    "# Initialize the XGBoost Regressor\n",
    "xg_reg = xgb.XGBRegressor(random_state=42)\n",
    "\n",
    "# Define the parameter grid for GridSearchCV\n",
    "param_grid_xg = {\n",
    "    'n_estimators': [100, 200, 300],  # Number of trees\n",
    "    'max_depth': [3, 5, 10],           # Depth of each tree\n",
    "    'learning_rate': [0.01, 0.05, 0.1], # Learning rate\n",
    "    'subsample': [0.8, 0.9, 1.0],      # Fraction of samples used for training each tree\n",
    "    'colsample_bytree': [0.8, 0.9, 1.0], # Fraction of features to be used for each tree\n",
    "    'min_child_weight': [1, 5, 10]      # Minimum sum of instance weight (hessian) in a child\n",
    "}\n",
    "\n",
    "# Initialize GridSearchCV with XGBoost and the parameter grid\n",
    "grid_search_xg = GridSearchCV(estimator=xg_reg, param_grid=param_grid_xg, cv=5, n_jobs=-1, scoring='neg_mean_squared_error')\n",
    "\n",
    "# Fit the model\n",
    "grid_search_xg.fit(X_train, y_train)\n",
    "\n",
    "# Get the best hyperparameters\n",
    "print(\"Best Hyperparameters for XGBoost:\", grid_search_xg.best_params_)\n",
    "\n",
    "# Get the best model\n",
    "best_xg_model = grid_search_xg.best_estimator_ "
   ]
  },
  {
   "cell_type": "code",
   "execution_count": 120,
   "metadata": {},
   "outputs": [
    {
     "name": "stdout",
     "output_type": "stream",
     "text": [
      "XGBoost MSE: 0.7077673419720288\n",
      "XGBoost R2: 0.16856560241758312\n"
     ]
    }
   ],
   "source": [
    "# Evaluate the model\n",
    "y_pred_xg = best_xg_model.predict(X_test)\n",
    "mse_xg = mean_squared_error(y_test, y_pred_xg)\n",
    "r2_xg = r2_score(y_test, y_pred_xg)\n",
    "\n",
    "print(f\"XGBoost MSE: {mse_xg}\")\n",
    "print(f\"XGBoost R2: {r2_xg}\")"
   ]
  },
  {
   "cell_type": "code",
   "execution_count": 121,
   "metadata": {},
   "outputs": [
    {
     "name": "stdout",
     "output_type": "stream",
     "text": [
      "Cross-Validation MSE: 0.6787 (+/- 0.0621)\n"
     ]
    }
   ],
   "source": [
    "from sklearn.model_selection import cross_val_score\n",
    "\n",
    "# Perform cross-validation\n",
    "cv_scores = cross_val_score(best_xg_model, X_train, y_train, cv=5, scoring='neg_mean_squared_error')\n",
    "\n",
    "# Print the cross-validation results\n",
    "print(f\"Cross-Validation MSE: {-cv_scores.mean():.4f} (+/- {cv_scores.std():.4f})\")"
   ]
  },
  {
   "cell_type": "markdown",
   "metadata": {},
   "source": [
    "from the above the xgboost model is the best"
   ]
  },
  {
   "cell_type": "code",
   "execution_count": 183,
   "metadata": {},
   "outputs": [],
   "source": [
    "# make predictions to submit!\n",
    "# pre process test_data\n",
    "predictions = best_xg_model.predict(X_test) \n"
   ]
  },
  {
   "cell_type": "code",
   "execution_count": 186,
   "metadata": {},
   "outputs": [
    {
     "ename": "ValueError",
     "evalue": "array length 482 does not match index length 1339",
     "output_type": "error",
     "traceback": [
      "\u001b[0;31m---------------------------------------------------------------------------\u001b[0m",
      "\u001b[0;31mValueError\u001b[0m                                Traceback (most recent call last)",
      "Cell \u001b[0;32mIn[186], line 1\u001b[0m\n\u001b[0;32m----> 1\u001b[0m submission_df \u001b[38;5;241m=\u001b[39m \u001b[43mpd\u001b[49m\u001b[38;5;241;43m.\u001b[39;49m\u001b[43mDataFrame\u001b[49m\u001b[43m(\u001b[49m\u001b[43m{\u001b[49m\n\u001b[1;32m      2\u001b[0m \u001b[43m    \u001b[49m\u001b[38;5;124;43m'\u001b[39;49m\u001b[38;5;124;43mID\u001b[39;49m\u001b[38;5;124;43m'\u001b[39;49m\u001b[43m:\u001b[49m\u001b[43m \u001b[49m\u001b[43mid_column\u001b[49m\u001b[43m,\u001b[49m\u001b[43m  \u001b[49m\u001b[38;5;66;43;03m# Replace 'ID' with the actual column name in your test dataset\u001b[39;49;00m\n\u001b[1;32m      3\u001b[0m \u001b[43m    \u001b[49m\u001b[38;5;124;43m'\u001b[39;49m\u001b[38;5;124;43mPredictions\u001b[39;49m\u001b[38;5;124;43m'\u001b[39;49m\u001b[43m:\u001b[49m\u001b[43m \u001b[49m\u001b[43mpredictions\u001b[49m\n\u001b[1;32m      4\u001b[0m \u001b[43m}\u001b[49m\u001b[43m)\u001b[49m\n\u001b[1;32m      6\u001b[0m \u001b[38;5;28mlen\u001b[39m(id_column)\n",
      "File \u001b[0;32m~/.pyenv/versions/3.10.10/lib/python3.10/site-packages/pandas/core/frame.py:778\u001b[0m, in \u001b[0;36mDataFrame.__init__\u001b[0;34m(self, data, index, columns, dtype, copy)\u001b[0m\n\u001b[1;32m    772\u001b[0m     mgr \u001b[38;5;241m=\u001b[39m \u001b[38;5;28mself\u001b[39m\u001b[38;5;241m.\u001b[39m_init_mgr(\n\u001b[1;32m    773\u001b[0m         data, axes\u001b[38;5;241m=\u001b[39m{\u001b[38;5;124m\"\u001b[39m\u001b[38;5;124mindex\u001b[39m\u001b[38;5;124m\"\u001b[39m: index, \u001b[38;5;124m\"\u001b[39m\u001b[38;5;124mcolumns\u001b[39m\u001b[38;5;124m\"\u001b[39m: columns}, dtype\u001b[38;5;241m=\u001b[39mdtype, copy\u001b[38;5;241m=\u001b[39mcopy\n\u001b[1;32m    774\u001b[0m     )\n\u001b[1;32m    776\u001b[0m \u001b[38;5;28;01melif\u001b[39;00m \u001b[38;5;28misinstance\u001b[39m(data, \u001b[38;5;28mdict\u001b[39m):\n\u001b[1;32m    777\u001b[0m     \u001b[38;5;66;03m# GH#38939 de facto copy defaults to False only in non-dict cases\u001b[39;00m\n\u001b[0;32m--> 778\u001b[0m     mgr \u001b[38;5;241m=\u001b[39m \u001b[43mdict_to_mgr\u001b[49m\u001b[43m(\u001b[49m\u001b[43mdata\u001b[49m\u001b[43m,\u001b[49m\u001b[43m \u001b[49m\u001b[43mindex\u001b[49m\u001b[43m,\u001b[49m\u001b[43m \u001b[49m\u001b[43mcolumns\u001b[49m\u001b[43m,\u001b[49m\u001b[43m \u001b[49m\u001b[43mdtype\u001b[49m\u001b[38;5;241;43m=\u001b[39;49m\u001b[43mdtype\u001b[49m\u001b[43m,\u001b[49m\u001b[43m \u001b[49m\u001b[43mcopy\u001b[49m\u001b[38;5;241;43m=\u001b[39;49m\u001b[43mcopy\u001b[49m\u001b[43m,\u001b[49m\u001b[43m \u001b[49m\u001b[43mtyp\u001b[49m\u001b[38;5;241;43m=\u001b[39;49m\u001b[43mmanager\u001b[49m\u001b[43m)\u001b[49m\n\u001b[1;32m    779\u001b[0m \u001b[38;5;28;01melif\u001b[39;00m \u001b[38;5;28misinstance\u001b[39m(data, ma\u001b[38;5;241m.\u001b[39mMaskedArray):\n\u001b[1;32m    780\u001b[0m     \u001b[38;5;28;01mfrom\u001b[39;00m \u001b[38;5;21;01mnumpy\u001b[39;00m\u001b[38;5;21;01m.\u001b[39;00m\u001b[38;5;21;01mma\u001b[39;00m \u001b[38;5;28;01mimport\u001b[39;00m mrecords\n",
      "File \u001b[0;32m~/.pyenv/versions/3.10.10/lib/python3.10/site-packages/pandas/core/internals/construction.py:503\u001b[0m, in \u001b[0;36mdict_to_mgr\u001b[0;34m(data, index, columns, dtype, typ, copy)\u001b[0m\n\u001b[1;32m    499\u001b[0m     \u001b[38;5;28;01melse\u001b[39;00m:\n\u001b[1;32m    500\u001b[0m         \u001b[38;5;66;03m# dtype check to exclude e.g. range objects, scalars\u001b[39;00m\n\u001b[1;32m    501\u001b[0m         arrays \u001b[38;5;241m=\u001b[39m [x\u001b[38;5;241m.\u001b[39mcopy() \u001b[38;5;28;01mif\u001b[39;00m \u001b[38;5;28mhasattr\u001b[39m(x, \u001b[38;5;124m\"\u001b[39m\u001b[38;5;124mdtype\u001b[39m\u001b[38;5;124m\"\u001b[39m) \u001b[38;5;28;01melse\u001b[39;00m x \u001b[38;5;28;01mfor\u001b[39;00m x \u001b[38;5;129;01min\u001b[39;00m arrays]\n\u001b[0;32m--> 503\u001b[0m \u001b[38;5;28;01mreturn\u001b[39;00m \u001b[43marrays_to_mgr\u001b[49m\u001b[43m(\u001b[49m\u001b[43marrays\u001b[49m\u001b[43m,\u001b[49m\u001b[43m \u001b[49m\u001b[43mcolumns\u001b[49m\u001b[43m,\u001b[49m\u001b[43m \u001b[49m\u001b[43mindex\u001b[49m\u001b[43m,\u001b[49m\u001b[43m \u001b[49m\u001b[43mdtype\u001b[49m\u001b[38;5;241;43m=\u001b[39;49m\u001b[43mdtype\u001b[49m\u001b[43m,\u001b[49m\u001b[43m \u001b[49m\u001b[43mtyp\u001b[49m\u001b[38;5;241;43m=\u001b[39;49m\u001b[43mtyp\u001b[49m\u001b[43m,\u001b[49m\u001b[43m \u001b[49m\u001b[43mconsolidate\u001b[49m\u001b[38;5;241;43m=\u001b[39;49m\u001b[43mcopy\u001b[49m\u001b[43m)\u001b[49m\n",
      "File \u001b[0;32m~/.pyenv/versions/3.10.10/lib/python3.10/site-packages/pandas/core/internals/construction.py:114\u001b[0m, in \u001b[0;36marrays_to_mgr\u001b[0;34m(arrays, columns, index, dtype, verify_integrity, typ, consolidate)\u001b[0m\n\u001b[1;32m    111\u001b[0m \u001b[38;5;28;01mif\u001b[39;00m verify_integrity:\n\u001b[1;32m    112\u001b[0m     \u001b[38;5;66;03m# figure out the index, if necessary\u001b[39;00m\n\u001b[1;32m    113\u001b[0m     \u001b[38;5;28;01mif\u001b[39;00m index \u001b[38;5;129;01mis\u001b[39;00m \u001b[38;5;28;01mNone\u001b[39;00m:\n\u001b[0;32m--> 114\u001b[0m         index \u001b[38;5;241m=\u001b[39m \u001b[43m_extract_index\u001b[49m\u001b[43m(\u001b[49m\u001b[43marrays\u001b[49m\u001b[43m)\u001b[49m\n\u001b[1;32m    115\u001b[0m     \u001b[38;5;28;01melse\u001b[39;00m:\n\u001b[1;32m    116\u001b[0m         index \u001b[38;5;241m=\u001b[39m ensure_index(index)\n",
      "File \u001b[0;32m~/.pyenv/versions/3.10.10/lib/python3.10/site-packages/pandas/core/internals/construction.py:690\u001b[0m, in \u001b[0;36m_extract_index\u001b[0;34m(data)\u001b[0m\n\u001b[1;32m    685\u001b[0m     \u001b[38;5;28;01mif\u001b[39;00m lengths[\u001b[38;5;241m0\u001b[39m] \u001b[38;5;241m!=\u001b[39m \u001b[38;5;28mlen\u001b[39m(index):\n\u001b[1;32m    686\u001b[0m         msg \u001b[38;5;241m=\u001b[39m (\n\u001b[1;32m    687\u001b[0m             \u001b[38;5;124mf\u001b[39m\u001b[38;5;124m\"\u001b[39m\u001b[38;5;124marray length \u001b[39m\u001b[38;5;132;01m{\u001b[39;00mlengths[\u001b[38;5;241m0\u001b[39m]\u001b[38;5;132;01m}\u001b[39;00m\u001b[38;5;124m does not match index \u001b[39m\u001b[38;5;124m\"\u001b[39m\n\u001b[1;32m    688\u001b[0m             \u001b[38;5;124mf\u001b[39m\u001b[38;5;124m\"\u001b[39m\u001b[38;5;124mlength \u001b[39m\u001b[38;5;132;01m{\u001b[39;00m\u001b[38;5;28mlen\u001b[39m(index)\u001b[38;5;132;01m}\u001b[39;00m\u001b[38;5;124m\"\u001b[39m\n\u001b[1;32m    689\u001b[0m         )\n\u001b[0;32m--> 690\u001b[0m         \u001b[38;5;28;01mraise\u001b[39;00m \u001b[38;5;167;01mValueError\u001b[39;00m(msg)\n\u001b[1;32m    691\u001b[0m \u001b[38;5;28;01melse\u001b[39;00m:\n\u001b[1;32m    692\u001b[0m     index \u001b[38;5;241m=\u001b[39m default_index(lengths[\u001b[38;5;241m0\u001b[39m])\n",
      "\u001b[0;31mValueError\u001b[0m: array length 482 does not match index length 1339"
     ]
    }
   ],
   "source": [
    "submission_df = pd.DataFrame({\n",
    "    'ID': id_column,  # Replace 'ID' with the actual column name in your test dataset\n",
    "    'Predictions': predictions\n",
    "})\n",
    "\n",
    "len(id_column)\n"
   ]
  },
  {
   "cell_type": "code",
   "execution_count": null,
   "metadata": {},
   "outputs": [],
   "source": []
  }
 ],
 "metadata": {
  "kernelspec": {
   "display_name": "Python 3",
   "language": "python",
   "name": "python3"
  },
  "language_info": {
   "codemirror_mode": {
    "name": "ipython",
    "version": 3
   },
   "file_extension": ".py",
   "mimetype": "text/x-python",
   "name": "python",
   "nbconvert_exporter": "python",
   "pygments_lexer": "ipython3",
   "version": "3.10.10"
  }
 },
 "nbformat": 4,
 "nbformat_minor": 2
}
